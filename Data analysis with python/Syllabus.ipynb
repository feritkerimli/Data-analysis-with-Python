{
  "metadata": {
    "kernelspec": {
      "name": "python",
      "display_name": "Python (Pyodide)",
      "language": "python"
    },
    "language_info": {
      "codemirror_mode": {
        "name": "python",
        "version": 3
      },
      "file_extension": ".py",
      "mimetype": "text/x-python",
      "name": "python",
      "nbconvert_exporter": "python",
      "pygments_lexer": "ipython3",
      "version": "3.8"
    }
  },
  "nbformat_minor": 5,
  "nbformat": 4,
  "cells": [
    {
      "id": "93fecf83-46d9-482e-96af-120cb4f205cb",
      "cell_type": "markdown",
      "source": "> <h3 style = \"color: #7DF9FF; \">  FK</h3> \n\n# **Syllabus**\n\n* ## What is data analysis? How to work with jupyter notebooks ? Example of data analysis with python.\n* ## Python Fundamentals\n* ## Numpy\n* ## Pandas\n  > * Pandas fundamentals(series,dataframes and etc.)\n  > * Data cleaning with Pandas\n  > * Reading different type of datas with Pandas\n* ## Data visualization with Matplotlyp\n* ## Final project\n---\n",
      "metadata": {}
    }
  ]
}