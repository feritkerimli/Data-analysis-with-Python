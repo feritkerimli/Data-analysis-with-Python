{
  "metadata": {
    "kernelspec": {
      "name": "python",
      "display_name": "Python (Pyodide)",
      "language": "python"
    },
    "language_info": {
      "codemirror_mode": {
        "name": "python",
        "version": 3
      },
      "file_extension": ".py",
      "mimetype": "text/x-python",
      "name": "python",
      "nbconvert_exporter": "python",
      "pygments_lexer": "ipython3",
      "version": "3.8"
    }
  },
  "nbformat_minor": 5,
  "nbformat": 4,
  "cells": [
    {
      "id": "068d5a3e-80bd-47d8-92ca-a53303651e2c",
      "cell_type": "markdown",
      "source": ">  <h3 style = \"color: #7DF9FF; \">  FK</h3> \n\n# Data analitika nədir? Jupyter notebooks'dan istifadə qaydaları. Python ilə data analitika nümunələri.\n\n# <span style = \"color: #223B7B; \"> Data analitika nədir? </span>\n\n<i><span style = \" color: #606060; \">>Data analitika faydalı məlumatların `aşkar edilməsi`, `nəticələr barədə məlumat verilməsi` və `qərarların qəbul edilməsi`nə dəstək məqsədi ilə məlumatların `yoxlanılması`, `təmizlənməsi`, `dəyişdirilməsi` və `modelləşdirilməsi` prosesidir.</span> <i>\n<br></br>",
      "metadata": {},
      "attachments": {}
    },
    {
      "id": "5c77122c-d78c-44fd-8581-bfb824e17950",
      "cell_type": "markdown",
      "source": "<img src=\"https://github.com/feritkerimli/Data-analysis-with-Python/blob/main/Data%20analysis%20with%20python/Lesson1/img/roadmap.png?raw=true\" style = \" width:100%px ; height: 400px\" ></img>\n\n<img src=\"https://github.com/feritkerimli/Data-analysis-with-Python/blob/main/Data%20analysis%20with%20python/Lesson1/img/ds%20vs%20da.png?raw=true\" style = \" width:100%px ; height: 400px\" ></img>\n\n<img src=\"https://github.com/feritkerimli/Data-analysis-with-Python/blob/main/Data%20analysis%20with%20python/Lesson1/img/tools%20vs.png?raw=true\" style = \" width:100%px ; height: 400px\" ></img>\n\n\n## Tool'lar və proqramlaşdırma dillərinin müsbət və mənfi cəhətləri\n\n* Tableau, PowerBI kimi tool'lar\n    * Open source deyil\n    * Bəzi programların məsələn Tableau'nun lisenziyası pulludur\n    * Edə biləcəkləriniz limitlidir\n    * Öyrənmək daha rahatdır\n* Python, R kimi proqramlaşdırma dilləri\n    * Open source'dir\n    * Pulsuzdur\n    * Kifayət qədər güclüdür\n    * Tool'lara nisbətən çətindir.\n\n\n\n## Bu kursda istifadə edəcəyimiz Python kitabxanaları\n- Numpy - hesablamaların təməli hesab olunan rəqəmsal kitabxana\n- Pandas - demək olar ki, data analizinin bütün mərhələlərində istifadə olunur.\n- Matplotlib - Vizuallaşdırma üçün istifadə olunur. ",
      "metadata": {}
    },
    {
      "id": "7ef38b37-225b-4159-85fa-08cacbb05689",
      "cell_type": "markdown",
      "source": "## Jupyter notebooks'dan istifadə qaydaları\nJupyter lite programını brauzerinizdə işə salın\n- shift+enter'lə bloku işə salıb yeni bloka keçirik\n- ctrl+enter'lə bloku işə salırıq(eyni blokda qalmaq şərti ilə)\n- markdown və code kimi blok növləri var.\n- markdown qeydlər aparmaq , code isə python və sql kodları üçün blokdur.\n- A ilə müvafiq blokun üzərində, B ilə isə müvafiq blokun altında yeni blok yaradılır.\n- dd ilə silinir(D düyməsini iki dəfə ard-arda sıxmaqla)",
      "metadata": {}
    }
  ]
}