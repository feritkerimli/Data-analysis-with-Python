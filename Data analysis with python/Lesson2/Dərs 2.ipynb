{
  "metadata": {
    "kernelspec": {
      "name": "python",
      "display_name": "Python (Pyodide)",
      "language": "python"
    },
    "language_info": {
      "codemirror_mode": {
        "name": "python",
        "version": 3
      },
      "file_extension": ".py",
      "mimetype": "text/x-python",
      "name": "python",
      "nbconvert_exporter": "python",
      "pygments_lexer": "ipython3",
      "version": "3.8"
    }
  },
  "nbformat_minor": 5,
  "nbformat": 4,
  "cells": [
    {
      "id": "a3790500-8e06-43f9-b3fd-addbaafba8cc",
      "cell_type": "markdown",
      "source": "# Python Fundamentals",
      "metadata": {}
    },
    {
      "id": "6340408c-5772-4d6e-9437-8362368d3026",
      "cell_type": "markdown",
      "source": "## Variables (Dəyişənlər)\n\nDəyişəni təyin edən zaman tipini yazmağa ehtiyac yoxdur",
      "metadata": {}
    },
    {
      "id": "b761d3e8-10f9-4813-a424-51b0ba587a49",
      "cell_type": "code",
      "source": "x = 5\ny = \" Hello World!\"\nprint(x)   # integer\nprint(y)   # string",
      "metadata": {
        "trusted": true
      },
      "outputs": [],
      "execution_count": null
    },
    {
      "id": "c04b5a43-6e68-474d-8003-b8783bce3035",
      "cell_type": "markdown",
      "source": "Eyni görsənsədə tipləri fərqli dəyişənlər fərqli dəyərlər qaytarır",
      "metadata": {}
    },
    {
      "id": "00682b18-21a1-48a4-a9e0-f76d285cae85",
      "cell_type": "code",
      "source": "a = int(2)    # 2\nb = str(2)    # '2'\nc = float(2)  # 2.0\nprint(a)\nprint(b)\nprint(c)",
      "metadata": {
        "trusted": true
      },
      "outputs": [],
      "execution_count": null
    },
    {
      "id": "a74d6873-39d9-47a5-9095-c0e6a261eab7",
      "cell_type": "code",
      "source": "d,f,g = 1,\"alma\",3.5\nprint(d)\nprint(f)\nprint(g)\nprint(d,f,g)",
      "metadata": {
        "trusted": true
      },
      "outputs": [],
      "execution_count": null
    },
    {
      "id": "c6dd8dc9-6ed9-4d3c-86d8-b35eddc5366a",
      "cell_type": "code",
      "source": "h,q=\"Data\"\nprint(h)\nprint(q)",
      "metadata": {
        "trusted": true
      },
      "outputs": [],
      "execution_count": null
    },
    {
      "id": "b8e5646a-47c1-4a29-a5d5-c1caca2b6c62",
      "cell_type": "markdown",
      "source": "Bunlardan əlavə:\n- Pythonda dəyişənlər ` case sensitive `'dir, yəni a və A dəyişənləri fərqli dəyişənlər sayılır.\n- Dəyişənin adı hərf yaxud `_`(alt xətt) ilə başlamalıdır. Rəqəmlə başlaya bilməz.\n- Dəyişən adları Python keywords (print,if,for və s.) ilə üst-üstə düşə bilməz.  ",
      "metadata": {}
    },
    {
      "id": "1b6d8d58-41c8-4244-904a-dc5f772da56c",
      "cell_type": "markdown",
      "source": "Qlobal və lokal dəyişənlər",
      "metadata": {}
    },
    {
      "id": "ded32502-87bd-4391-aa27-e7c0db3de040",
      "cell_type": "code",
      "source": "x = \"proqramlasdirma dilidir\"\n\ndef myfunc():\n  x = \"data analitika ucun aletdir\"\n  print(\"Python  \" + x)\n\nmyfunc()\n\nprint(\"Python  \" + x)",
      "metadata": {
        "trusted": true
      },
      "outputs": [],
      "execution_count": null
    },
    {
      "id": "62a2be3e-281b-4162-aee5-c1028b82efc7",
      "cell_type": "markdown",
      "source": "`global` keyword'undan istifadə edərəl lokal dəyişəni qlobala çevirmək olar",
      "metadata": {}
    }
  ]
}